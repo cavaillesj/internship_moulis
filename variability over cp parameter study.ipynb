{
 "cells": [
  {
   "cell_type": "markdown",
   "metadata": {},
   "source": [
    "# Generation of the plot"
   ]
  },
  {
   "cell_type": "code",
   "execution_count": 3,
   "metadata": {},
   "outputs": [],
   "source": [
    "import time as tm"
   ]
  },
  {
   "cell_type": "code",
   "execution_count": 4,
   "metadata": {},
   "outputs": [],
   "source": [
    "def param_study(Number_of_simulation, numbreDePoint, Freq, Param_phy, Init, finalTime, alpha, beta, strength, dt, name):\n",
    "    Color = [\"blue\", \"g\", \"red\", \"orange\", \"pink\", \"black\", \"magenta\", \"grey\"]\n",
    "    Param_coupled = {\"alpha\":alpha,\n",
    "                     \"beta\":beta}\n",
    "    Param_freq = {\"p\":-1} # going to change\n",
    "    Param_strength = {\"scale\":strength}\n",
    "    Fire_param = {\"model\": \"coupled\",\n",
    "                    \"frequence\": \"bernoulli\",\n",
    "                    \"param_freq\" : Param_freq,\n",
    "                    \"amplitude\": \"exponential\",\n",
    "                    \"Param_strength\" : Param_strength,\n",
    "                    \"Param_coupled\" : Param_coupled,\n",
    "                    \"type\" : \"proportionnal\",\n",
    "                    \"coef_W_N\" : 5}\n",
    "\n",
    "\n",
    "    Collapse = np.zeros((numbreDePoint, len(Freq), Number_of_simulation))\n",
    "    Variability_always = np.zeros_like(Collapse)\n",
    "    Variability_until = np.zeros_like(Collapse)\n",
    "    Variability_only = np.zeros_like(Collapse)\n",
    "    Variability_10 = np.zeros_like(Collapse)\n",
    "    Collapse_10_b = np.zeros_like(Collapse)\n",
    "    Collapse_10_m = np.zeros_like(Collapse)\n",
    "\n",
    "    for j in range(numbreDePoint):\n",
    "        for i, freq in enumerate(Freq):\n",
    "            Param_freq = {\"p\":freq}\n",
    "            Fire_param[\"param_freq\"] = Param_freq\n",
    "            Collapse[j,i], Variability_always[j,i], Variability_until[j,i], Variability_only[j,i], Variability_10[j,i], Collapse_10_b[j,i], Collapse_10_m[j,i] = all_measure(Number_of_simulation = Number_of_simulation, mean = False, finalTime = finalTime, Fire_param = Fire_param, dt = dt, Param_phy=Param_phy, Init=Init)\n",
    "\n",
    "\n",
    "    Compute_variability = {\"Variability_always\": Variability_always,\n",
    "                            \"Variability_until\": Variability_until, \n",
    "                            \"Variability_only\":Variability_only,\n",
    "                            \"Variability_10\":Variability_10}\n",
    "\n",
    "\n",
    "    plt.figure(figsize=(20, 20))\n",
    "    #plt.suptitle(\"Variability over collapse for different frequency\\nalpha = \"+str(alpha)+\", beta = \"+str(beta), fontsize=20)\n",
    "\n",
    "    for k, compute_variability in enumerate(Compute_variability.keys()):\n",
    "        plt.figure(figsize=(12, 8))\n",
    "        #plt.subplot(2,2,k+1)\n",
    "        for j in range(numbreDePoint):\n",
    "            for i, freq in enumerate(Freq):\n",
    "    #        for i, freq in enumerate(Freq):\n",
    "                if(j==0):\n",
    "                    plt.plot(np.nanmean(Collapse[j,i]), np.nanmean(Compute_variability[compute_variability][j,i]), \"*\", color = Color[i], label=str(freq))\n",
    "                else:\n",
    "                    plt.plot(np.nanmean(Collapse[j,i]), np.nanmean(Compute_variability[compute_variability][j,i]), \"*\", color = Color[i])\n",
    "        plt.xlim(-0.1, 1.1)\n",
    "        plt.ylim(-0.01, .18)\n",
    "        plt.xlabel(\"Collapse\", fontsize=15)\n",
    "        plt.ylabel(compute_variability, fontsize=15)\n",
    "      #  plt.ylim(ymin, ymax)\n",
    "        plt.legend()\n",
    "        \n",
    "        plt.title(compute_variability+\"over collapse for different frequency\")\n",
    "        plt.savefig(name+\"_\"+compute_variability+\".png\")\n",
    "        plt.show()\n",
    "\n",
    "    #            plt.title(\"Variability over collapse for different frequency\\nalpha = \"+str(alpha)+\", beta = \"+str(beta), fontsize=20)\n"
   ]
  },
  {
   "cell_type": "code",
   "execution_count": null,
   "metadata": {
    "scrolled": true
   },
   "outputs": [
    {
     "name": "stdout",
     "output_type": "stream",
     "text": [
      "Tue Mar 19 12:36:13 2019 , Figure  4 (total  1728 )\n",
      "Tue Mar 19 12:38:44 2019 , Figure  8 (total  1728 )\n",
      "Tue Mar 19 12:41:16 2019 , Figure  12 (total  1728 )\n",
      "Tue Mar 19 12:43:49 2019 , Figure  16 (total  1728 )\n"
     ]
    },
    {
     "name": "stderr",
     "output_type": "stream",
     "text": [
      "C:\\Users\\jerome\\Anaconda3\\lib\\site-packages\\matplotlib\\pyplot.py:514: RuntimeWarning: More than 20 figures have been opened. Figures created through the pyplot interface (`matplotlib.pyplot.figure`) are retained until explicitly closed and may consume too much memory. (To control this warning, see the rcParam `figure.max_open_warning`).\n",
      "  max_open_warning, RuntimeWarning)\n"
     ]
    },
    {
     "name": "stdout",
     "output_type": "stream",
     "text": [
      "Tue Mar 19 12:46:20 2019 , Figure  20 (total  1728 )\n",
      "Tue Mar 19 12:48:50 2019 , Figure  24 (total  1728 )\n",
      "Tue Mar 19 12:51:20 2019 , Figure  28 (total  1728 )\n",
      "Tue Mar 19 12:53:51 2019 , Figure  32 (total  1728 )\n",
      "Tue Mar 19 12:56:22 2019 , Figure  36 (total  1728 )\n",
      "Tue Mar 19 12:58:52 2019 , Figure  40 (total  1728 )\n",
      "Tue Mar 19 13:01:23 2019 , Figure  44 (total  1728 )\n",
      "Tue Mar 19 13:03:53 2019 , Figure  48 (total  1728 )\n",
      "Tue Mar 19 13:06:23 2019 , Figure  52 (total  1728 )\n",
      "Tue Mar 19 13:08:54 2019 , Figure  56 (total  1728 )\n",
      "Tue Mar 19 13:11:25 2019 , Figure  60 (total  1728 )\n",
      "Tue Mar 19 13:13:56 2019 , Figure  64 (total  1728 )\n",
      "Tue Mar 19 13:16:26 2019 , Figure  68 (total  1728 )\n",
      "Tue Mar 19 13:18:58 2019 , Figure  72 (total  1728 )\n",
      "Tue Mar 19 13:21:29 2019 , Figure  76 (total  1728 )\n",
      "Tue Mar 19 13:23:59 2019 , Figure  80 (total  1728 )\n",
      "Tue Mar 19 13:26:29 2019 , Figure  84 (total  1728 )\n",
      "Tue Mar 19 13:29:01 2019 , Figure  88 (total  1728 )\n",
      "Tue Mar 19 13:31:31 2019 , Figure  92 (total  1728 )\n",
      "Tue Mar 19 13:34:01 2019 , Figure  96 (total  1728 )\n",
      "Tue Mar 19 13:36:32 2019 , Figure  100 (total  1728 )\n",
      "Tue Mar 19 13:39:02 2019 , Figure  104 (total  1728 )\n",
      "Tue Mar 19 13:41:32 2019 , Figure  108 (total  1728 )\n",
      "Tue Mar 19 13:44:02 2019 , Figure  112 (total  1728 )\n"
     ]
    },
    {
     "name": "stderr",
     "output_type": "stream",
     "text": [
      "C:\\Users\\jerome\\Anaconda3\\lib\\site-packages\\ipykernel_launcher.py:50: RuntimeWarning: Mean of empty slice\n"
     ]
    },
    {
     "name": "stdout",
     "output_type": "stream",
     "text": [
      "Tue Mar 19 13:46:33 2019 , Figure  116 (total  1728 )\n",
      "Tue Mar 19 13:49:06 2019 , Figure  120 (total  1728 )\n",
      "Tue Mar 19 13:51:39 2019 , Figure  124 (total  1728 )\n",
      "Tue Mar 19 13:54:11 2019 , Figure  128 (total  1728 )\n"
     ]
    },
    {
     "name": "stderr",
     "output_type": "stream",
     "text": [
      "C:\\Users\\jerome\\Anaconda3\\lib\\site-packages\\ipykernel_launcher.py:48: RuntimeWarning: Mean of empty slice\n"
     ]
    },
    {
     "name": "stdout",
     "output_type": "stream",
     "text": [
      "Tue Mar 19 13:56:44 2019 , Figure  132 (total  1728 )\n",
      "Tue Mar 19 13:59:16 2019 , Figure  136 (total  1728 )\n",
      "Tue Mar 19 14:01:49 2019 , Figure  140 (total  1728 )\n",
      "Tue Mar 19 14:04:22 2019 , Figure  144 (total  1728 )\n",
      "Tue Mar 19 14:06:53 2019 , Figure  148 (total  1728 )\n",
      "Tue Mar 19 14:09:26 2019 , Figure  152 (total  1728 )\n",
      "Tue Mar 19 14:11:57 2019 , Figure  156 (total  1728 )\n",
      "Tue Mar 19 14:14:29 2019 , Figure  160 (total  1728 )\n",
      "Tue Mar 19 14:16:59 2019 , Figure  164 (total  1728 )\n",
      "Tue Mar 19 14:19:30 2019 , Figure  168 (total  1728 )\n",
      "Tue Mar 19 14:22:03 2019 , Figure  172 (total  1728 )\n",
      "Tue Mar 19 14:24:35 2019 , Figure  176 (total  1728 )\n",
      "Tue Mar 19 14:27:08 2019 , Figure  180 (total  1728 )\n",
      "Tue Mar 19 14:29:41 2019 , Figure  184 (total  1728 )\n",
      "Tue Mar 19 14:32:13 2019 , Figure  188 (total  1728 )\n",
      "Tue Mar 19 14:34:44 2019 , Figure  192 (total  1728 )\n",
      "Tue Mar 19 14:37:17 2019 , Figure  196 (total  1728 )\n",
      "Tue Mar 19 14:39:50 2019 , Figure  200 (total  1728 )\n",
      "Tue Mar 19 14:42:23 2019 , Figure  204 (total  1728 )\n",
      "Tue Mar 19 14:44:55 2019 , Figure  208 (total  1728 )\n",
      "Tue Mar 19 14:47:27 2019 , Figure  212 (total  1728 )\n",
      "Tue Mar 19 14:49:59 2019 , Figure  216 (total  1728 )\n",
      "Tue Mar 19 14:52:31 2019 , Figure  220 (total  1728 )\n",
      "Tue Mar 19 14:55:03 2019 , Figure  224 (total  1728 )\n",
      "Tue Mar 19 14:57:37 2019 , Figure  228 (total  1728 )\n",
      "Tue Mar 19 15:00:10 2019 , Figure  232 (total  1728 )\n",
      "Tue Mar 19 15:02:43 2019 , Figure  236 (total  1728 )\n",
      "Tue Mar 19 15:05:16 2019 , Figure  240 (total  1728 )\n",
      "Tue Mar 19 15:07:47 2019 , Figure  244 (total  1728 )\n"
     ]
    }
   ],
   "source": [
    "exec(open(\"object.py\").read(), globals())\n",
    "\n",
    "Number_of_simulation = 50\n",
    "numbreDePoint = 20\n",
    "\n",
    "Freq = [0.02, 0.05, 0.1, 0.2, 0.5, 1., 3., 10.]\n",
    "dt = 0.01\n",
    "finalTime = 10\n",
    "\n",
    "A = [0.2, 0.4, 0.6]\n",
    "M = [0.5, 1., 1.5]\n",
    "Alpha = [2, 4, 7, 10]\n",
    "Beta = [2, 4, 7, 10]\n",
    "Strength = [0.01, 0.05, 0.1]\n",
    "\n",
    "nomberFigure = len(A)*len(M)*len(Alpha)*len(Beta)*len(Strength)\n",
    "\n",
    "c=0\n",
    "for a in A:\n",
    "    for m in M:\n",
    "        Param_phy = [a, m]\n",
    "        Init = [1., Param_phy[1]]\n",
    "        for strength in Strength:\n",
    "            for alpha in Alpha:\n",
    "                for beta in Beta:\n",
    "                    name = \"plot/measures/coupled/param/a=\"+str(a)+\"_m=\"+str(m)+\"_strength=\"+str(strength)+\"_alpha=\"+str(alpha)+\"_beta=\"+str(beta)\n",
    "                    param_study(Number_of_simulation, numbreDePoint, Freq, Param_phy, Init, finalTime, alpha, beta, strength, dt, name)           \n",
    "                    c+=1\n",
    "                    print(tm.ctime(), \", Figure \", c*4, \"(total \", 4*nomberFigure, \")\") # afficher l'heure"
   ]
  },
  {
   "cell_type": "code",
   "execution_count": null,
   "metadata": {},
   "outputs": [],
   "source": []
  }
 ],
 "metadata": {
  "kernelspec": {
   "display_name": "Python 3",
   "language": "python",
   "name": "python3"
  },
  "language_info": {
   "codemirror_mode": {
    "name": "ipython",
    "version": 3
   },
   "file_extension": ".py",
   "mimetype": "text/x-python",
   "name": "python",
   "nbconvert_exporter": "python",
   "pygments_lexer": "ipython3",
   "version": "3.7.1"
  }
 },
 "nbformat": 4,
 "nbformat_minor": 2
}
