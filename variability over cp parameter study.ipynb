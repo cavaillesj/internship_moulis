{
 "cells": [
  {
   "cell_type": "markdown",
   "metadata": {},
   "source": [
    "# Generation of the plot"
   ]
  },
  {
   "cell_type": "code",
   "execution_count": 5,
   "metadata": {},
   "outputs": [],
   "source": [
    "def param_study(Number_of_simulation, numbreDePoint, Freq, Param_phy, Init, finalTime, alpha, beta, strength, dt, name):\n",
    "    Color = [\"blue\", \"g\", \"red\", \"orange\", \"pink\", \"black\", \"magenta\", \"grey\"]\n",
    "    Param_coupled = {\"alpha\":alpha,\n",
    "                     \"beta\":beta}\n",
    "    Param_freq = {\"p\":-1} # going to change\n",
    "    Param_strength = {\"scale\":strength}\n",
    "    Fire_param = {\"model\": \"coupled\",\n",
    "                    \"frequence\": \"bernoulli\",\n",
    "                    \"param_freq\" : Param_freq,\n",
    "                    \"amplitude\": \"exponential\",\n",
    "                    \"Param_strength\" : Param_strength,\n",
    "                    \"Param_coupled\" : Param_coupled,\n",
    "                    \"type\" : \"proportionnal\",\n",
    "                    \"coef_W_N\" : 5}\n",
    "\n",
    "\n",
    "    Collapse = np.zeros((numbreDePoint, len(Freq), Number_of_simulation))\n",
    "    Variability_always = np.zeros_like(Collapse)\n",
    "    Variability_until = np.zeros_like(Collapse)\n",
    "    Variability_only = np.zeros_like(Collapse)\n",
    "    Variability_10 = np.zeros_like(Collapse)\n",
    "    Collapse_10_b = np.zeros_like(Collapse)\n",
    "    Collapse_10_m = np.zeros_like(Collapse)\n",
    "\n",
    "    for j in range(numbreDePoint):\n",
    "        for i, freq in enumerate(Freq):\n",
    "            Param_freq = {\"p\":freq}\n",
    "            Fire_param[\"param_freq\"] = Param_freq\n",
    "            Collapse[j,i], Variability_always[j,i], Variability_until[j,i], Variability_only[j,i], Variability_10[j,i], Collapse_10_b[j,i], Collapse_10_m[j,i] = all_measure(Number_of_simulation = Number_of_simulation, mean = False, finalTime = finalTime, Fire_param = Fire_param, dt = dt, Param_phy=Param_phy, Init=Init)\n",
    "\n",
    "\n",
    "    Compute_variability = {\"Variability_always\": Variability_always,\n",
    "                            \"Variability_until\": Variability_until, \n",
    "                            \"Variability_only\":Variability_only,\n",
    "                            \"Variability_10\":Variability_10}\n",
    "\n",
    "\n",
    "    plt.figure(figsize=(20, 20))\n",
    "    plt.suptitle(\"Variability over collapse for different frequency\\nalpha = \"+str(alpha)+\", beta = \"+str(beta), fontsize=20)\n",
    "\n",
    "    for k, compute_variability in enumerate(Compute_variability.keys()):\n",
    "        #plt.figure(figsize=(12, 8))\n",
    "        plt.subplot(2,2,k+1)\n",
    "        for j in range(numbreDePoint):\n",
    "            for i, freq in enumerate(Freq):\n",
    "    #        for i, freq in enumerate(Freq):\n",
    "                if(j==0):\n",
    "                    plt.plot(np.nanmean(Collapse[j,i]), np.nanmean(Compute_variability[compute_variability][j,i]), \"*\", color = Color[i], label=str(freq))\n",
    "                else:\n",
    "                    plt.plot(np.nanmean(Collapse[j,i]), np.nanmean(Compute_variability[compute_variability][j,i]), \"*\", color = Color[i])\n",
    "\n",
    "        plt.xlabel(\"Collapse\", fontsize=15)\n",
    "        plt.ylabel(compute_variability, fontsize=15)\n",
    "      #  plt.ylim(ymin, ymax)\n",
    "        plt.legend()\n",
    "    plt.savefig(name)\n",
    "\n",
    "    #            plt.title(\"Variability over collapse for different frequency\\nalpha = \"+str(alpha)+\", beta = \"+str(beta), fontsize=20)\n"
   ]
  },
  {
   "cell_type": "code",
   "execution_count": null,
   "metadata": {
    "scrolled": true
   },
   "outputs": [
    {
     "name": "stdout",
     "output_type": "stream",
     "text": [
      "Figure  1 total  432\n",
      "Figure  2 total  432\n"
     ]
    }
   ],
   "source": [
    "exec(open(\"object.py\").read(), globals())\n",
    "\n",
    "Number_of_simulation = 50\n",
    "numbreDePoint = 20\n",
    "\n",
    "Freq = [0.02, 0.05, 0.1, 0.2, 0.5, 1., 3., 10.]\n",
    "dt = 0.01\n",
    "finalTime = 10\n",
    "\n",
    "A = [0.2, 0.4, 0.6]\n",
    "M = [0.5, 1., 1.5]\n",
    "Alpha = [2, 4, 7, 10]\n",
    "Beta = [2, 4, 7, 10]\n",
    "Strength = [0.01, 0.05, 0.1]\n",
    "\n",
    "nomberFigure = len(A)*len(M)*len(Alpha)*len(Beta)*len(strength)\n",
    "\n",
    "c=0\n",
    "for a in A:\n",
    "    for m in M:\n",
    "        Param_phy = [a, m]\n",
    "        Init = [1., Param_phy[1]]\n",
    "        for strength in Strength:\n",
    "            for alpha in Alpha:\n",
    "                for beta in Beta:\n",
    "                    name = \"plot/measures/coupled/param/a=\"+str(a)+\"_m=\"+str(m)+\"_strength=\"+str(strength)+\"_alpha=\"+str(alpha)+\"_beta=\"+str(beta)+\".png\"\n",
    "                    param_study(Number_of_simulation, numbreDePoint, Freq, Param_phy, Init, finalTime, alpha, beta, strength, dt, name)           \n",
    "                    c+=1\n",
    "                    print(\"Figure \", c, \"total \", nomberFigure) # afficher l'heure"
   ]
  }
 ],
 "metadata": {
  "kernelspec": {
   "display_name": "Python 3",
   "language": "python",
   "name": "python3"
  },
  "language_info": {
   "codemirror_mode": {
    "name": "ipython",
    "version": 3
   },
   "file_extension": ".py",
   "mimetype": "text/x-python",
   "name": "python",
   "nbconvert_exporter": "python",
   "pygments_lexer": "ipython3",
   "version": "3.7.1"
  }
 },
 "nbformat": 4,
 "nbformat_minor": 2
}
