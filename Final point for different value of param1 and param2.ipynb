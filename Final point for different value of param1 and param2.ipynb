{
 "cells": [
  {
   "cell_type": "code",
   "execution_count": 1,
   "metadata": {},
   "outputs": [],
   "source": [
    "exec(open(\"objet.py\").read(), globals())"
   ]
  },
  {
   "cell_type": "code",
   "execution_count": null,
   "metadata": {},
   "outputs": [],
   "source": [
    "Param1 = np.linspace(0.2, 0.6, 5)\n",
    "Param2 = np.linspace(0.2, 0.6, 5)\n",
    "NN = np.zeros((len(Param1), len(Param2)))\n",
    "WW = np.zeros_like(NN)\n",
    "\n",
    "m = np.max([np.max(NN), np.max(WW)])\n",
    "\n",
    "Init = [0.5, 0.5]\n",
    "for i, param1 in enumerate(Param1):\n",
    "    #print(i, param1)\n",
    "    for j, param2 in enumerate(Param2):\n",
    "        O = Ode(model = \"allee_effect_adi\", Init = Init, Param_phy=[param1, param2])\n",
    "        Y = O.solve()\n",
    "        NN[i,j] = Y[0][-1]\n",
    "        WW[i,j] = Y[1][-1]m"
   ]
  },
  {
   "cell_type": "code",
   "execution_count": null,
   "metadata": {},
   "outputs": [],
   "source": [
    "#fig, [ax1, ax2] = plt.subplots(figsize = (16, 8), ncols = 2)\n",
    "fig, ax = plt.subplots(figsize = (16, 8), ncols = 1)\n",
    "plt.title(\"N density\")\n",
    "plt.xlabel(\"a\")        \n",
    "plt.ylabel(\"m\")        \n",
    "p1 = ax.imshow(NN, vmin = 0, vmax = m)\n",
    "fig.colorbar(p1, ax = ax)\n",
    "\n",
    "fig, ax = plt.subplots(figsize = (16, 8), ncols = 1)\n",
    "plt.title(\"W density\")\n",
    "plt.xlabel(\"param1\")        \n",
    "plt.ylabel(\"param2\")        \n",
    "p2 = ax.imshow(WW, vmin = 0, vmax = m)\n",
    "fig.colorbar(p2, ax = ax)"
   ]
  }
 ],
 "metadata": {
  "kernelspec": {
   "display_name": "Python 3",
   "language": "python",
   "name": "python3"
  },
  "language_info": {
   "codemirror_mode": {
    "name": "ipython",
    "version": 3
   },
   "file_extension": ".py",
   "mimetype": "text/x-python",
   "name": "python",
   "nbconvert_exporter": "python",
   "pygments_lexer": "ipython3",
   "version": "3.6.7"
  }
 },
 "nbformat": 4,
 "nbformat_minor": 2
}
