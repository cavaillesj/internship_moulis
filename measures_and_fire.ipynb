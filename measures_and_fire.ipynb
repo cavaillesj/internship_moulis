{
 "cells": [
  {
   "cell_type": "markdown",
   "metadata": {},
   "source": [
    "# measures and fire"
   ]
  },
  {
   "cell_type": "markdown",
   "metadata": {},
   "source": [
    "The purpose of the notebook is to visualise the impact of different type of fire on the system.\n",
    "By different type of fire, we mean the modelisation of the fire, the law it follow, the different parameter of the law, the amplitude ..."
   ]
  },
  {
   "cell_type": "code",
   "execution_count": 34,
   "metadata": {},
   "outputs": [],
   "source": [
    "exec(open(\"objet.py\").read(), globals())"
   ]
  },
  {
   "cell_type": "code",
   "execution_count": 59,
   "metadata": {},
   "outputs": [],
   "source": [
    "def measure(**kwargs):\n",
    "    \"\"\"solve the system several times with different perturbation in order to make an average\"\"\"\n",
    "    Number_of_simulation = 100\n",
    "    Variability = np.zeros(Number_of_simulation)\n",
    "    Collapse = np.zeros_like(Variability)\n",
    "    for i in range(Number_of_simulation):\n",
    "        O = Ode(**kwargs)\n",
    "        O.perturbation()\n",
    "        Y = O.solve_by_part()\n",
    "        Variability[i] = variability(Y)\n",
    "#        print(collapse(Y))\n",
    "        Collapse[i] = collapse(Y)   \n",
    "    return np.mean(Variability), np.mean(Collapse)"
   ]
  },
  {
   "cell_type": "code",
   "execution_count": null,
   "metadata": {},
   "outputs": [],
   "source": []
  }
 ],
 "metadata": {
  "kernelspec": {
   "display_name": "Python 3",
   "language": "python",
   "name": "python3"
  },
  "language_info": {
   "codemirror_mode": {
    "name": "ipython",
    "version": 3
   },
   "file_extension": ".py",
   "mimetype": "text/x-python",
   "name": "python",
   "nbconvert_exporter": "python",
   "pygments_lexer": "ipython3",
   "version": "3.6.7"
  }
 },
 "nbformat": 4,
 "nbformat_minor": 2
}
