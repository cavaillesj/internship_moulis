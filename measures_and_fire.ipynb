{
 "cells": [
  {
   "cell_type": "markdown",
   "metadata": {},
   "source": [
    "# measures and fire"
   ]
  },
  {
   "cell_type": "markdown",
   "metadata": {},
   "source": [
    "The purpose of the notebook is to visualise the impact of different type of fire on the system.\n",
    "By different type of fire, we mean the modelisation of the fire, the law it follow, the different parameter of the law, the amplitude ..."
   ]
  },
  {
   "cell_type": "code",
   "execution_count": 65,
   "metadata": {},
   "outputs": [],
   "source": [
    "exec(open(\"objet.py\").read(), globals())"
   ]
  },
  {
   "cell_type": "code",
   "execution_count": 76,
   "metadata": {},
   "outputs": [],
   "source": [
    "def measure(**kwargs):\n",
    "    \"\"\"solve the system several times with different perturbation in order to make an average\"\"\"\n",
    "    Number_of_simulation = 100\n",
    "    Variability = np.zeros(Number_of_simulation)\n",
    "    Collapse = np.zeros_like(Variability)\n",
    "    for i in range(Number_of_simulation):\n",
    "        O = Ode(**kwargs)\n",
    "        O.perturbation()\n",
    "        Y = O.solve_by_part()\n",
    "        Variability[i] = variability(Y)\n",
    "#        print(collapse(Y))\n",
    "        Collapse[i] = collapse(Y)   \n",
    "    return np.mean(Variability), np.mean(Collapse)"
   ]
  },
  {
   "cell_type": "markdown",
   "metadata": {},
   "source": [
    "### Study of the impact of fire frequency"
   ]
  },
  {
   "cell_type": "code",
   "execution_count": 77,
   "metadata": {},
   "outputs": [],
   "source": [
    "exec(open(\"objet.py\").read(), globals())\n",
    "\n",
    "Freq = [0.001, 0.005, 0.01, 0.05, 0.1]\n",
    "\n",
    "Param_freq = {\"p\":0.01}\n",
    "Param_ampl = {\"scale\":0.07}\n",
    "\n",
    "Fire = {\"frequence\": \"bernoulli\",\n",
    "        \"param_freq\" : Param_freq,\n",
    "        \"amplitude\": \"exponential\",\n",
    "        \"param_amplitude\" : Param_ampl,\n",
    "        \"type\" : \"proportionnal\"}\n",
    "\n",
    "\n",
    "V = []\n",
    "C = []\n",
    "for i, freq in enumerate(Freq):\n",
    "    Fire[\"param_freq\"] = freq\n",
    "    v, c = measure(Fire = Fire) #############\" modifier objet, au début et à perturbation\"\n",
    "    V += [v]\n",
    "    C += [c]"
   ]
  },
  {
   "cell_type": "code",
   "execution_count": 69,
   "metadata": {},
   "outputs": [
    {
     "data": {
      "image/png": "[encoded data removed]",
      "text/plain": [
       "<Figure size 432x288 with 1 Axes>"
      ]
     },
     "metadata": {
      "needs_background": "light"
     },
     "output_type": "display_data"
    }
   ],
   "source": [
    "plt.semilogx(Freq, V, label=\"variability\")\n",
    "plt.semilogx(Freq, C, label=\"collapse probability\")\n",
    "plt.legend()\n",
    "plt.xlabel(\"Lambda (log scale)\")\n",
    "plt.ylabel(\"Measures\")\n",
    "plt.show()"
   ]
  },
  {
   "cell_type": "code",
   "execution_count": null,
   "metadata": {},
   "outputs": [],
   "source": []
  }
 ],
 "metadata": {
  "kernelspec": {
   "display_name": "Python 3",
   "language": "python",
   "name": "python3"
  },
  "language_info": {
   "codemirror_mode": {
    "name": "ipython",
    "version": 3
   },
   "file_extension": ".py",
   "mimetype": "text/x-python",
   "name": "python",
   "nbconvert_exporter": "python",
   "pygments_lexer": "ipython3",
   "version": "3.6.7"
  }
 },
 "nbformat": 4,
 "nbformat_minor": 2
}
